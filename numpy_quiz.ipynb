{
 "cells": [
  {
   "cell_type": "markdown",
   "metadata": {},
   "source": [
    "# Numpyの確認課題"
   ]
  },
  {
   "cell_type": "markdown",
   "metadata": {},
   "source": [
    "## 必要モジュールのインポート\n",
    "\n",
    "この問題で使うモジュールをインポートします．"
   ]
  },
  {
   "cell_type": "code",
   "execution_count": 2,
   "metadata": {},
   "outputs": [],
   "source": [
    "import matplotlib.pyplot as plt\n",
    "import numpy as np\n",
    "\n",
    "np.random.seed(0)"
   ]
  },
  {
   "cell_type": "markdown",
   "metadata": {},
   "source": [
    "---"
   ]
  },
  {
   "cell_type": "markdown",
   "metadata": {},
   "source": [
    "### 問1. `ndarray`の生成\n",
    "\n",
    "以下の2つの`ndarray`を定義しなさい．\n",
    "- 観測値 `x`: 初項`0`，末項`5`，項数`100`の等差数列\n",
    "- ノイズ `noise`: 標準正規分布に従う`100`個の乱数"
   ]
  },
  {
   "cell_type": "code",
   "execution_count": 32,
   "metadata": {},
   "outputs": [
    {
     "name": "stdout",
     "output_type": "stream",
     "text": [
      "[-0.59865394 -1.11589699  0.76666318  0.35629282 -1.76853845  0.35548179\n",
      "  0.81451982  0.05892559 -0.18505367 -0.80764849 -1.4465347   0.80029795\n",
      " -0.30911444 -0.23346666  1.73272119  0.68450111  0.370825    0.14206181\n",
      "  1.51999486  1.71958931  0.92950511  0.58222459 -2.09460307  0.12372191\n",
      " -0.13010695  0.09395323  0.94304609 -2.73967717 -0.56931205  0.26990435\n",
      " -0.46684555 -1.41690611  0.86896349  0.27687191 -0.97110457  0.3148172\n",
      "  0.82158571  0.00529265  0.8005648   0.07826018 -0.39522898 -1.15942052\n",
      " -0.08593077  0.19429294  0.87583276 -0.11510747  0.45741561 -0.96461201\n",
      " -0.78262916 -0.1103893  -1.05462846  0.82024784  0.46313033  0.27909576\n",
      "  0.33890413  2.02104356 -0.46886419 -2.20144129  0.1993002  -0.05060354\n",
      " -0.51751904 -0.97882986 -0.43918952  0.18133843 -0.5028167   2.41245368\n",
      " -0.96050438 -0.79311736 -2.28862004  0.25148442 -2.01640663 -0.53945463\n",
      " -0.27567053 -0.70972797  1.73887268  0.99439439  1.31913688 -0.88241882\n",
      "  1.12859406  0.49600095  0.77140595  1.02943883 -0.90876325 -0.42431762\n",
      "  0.86259601 -2.65561909  1.51332808  0.55313206 -0.04570396  0.22050766\n",
      " -1.02993528 -0.34994336  1.10028434  1.29802197  2.69622405 -0.07392467\n",
      " -0.65855297 -0.51423397 -1.01804188 -0.07785476]\n"
     ]
    }
   ],
   "source": [
    "x = np.linspace(0, 5, 100, dtype=float) #TODO\n",
    "noise = np.random.normal(loc = 0, scale = 1, size = 100) #TODO\n",
    "print(noise)"
   ]
  },
  {
   "cell_type": "markdown",
   "metadata": {},
   "source": [
    "---"
   ]
  },
  {
   "cell_type": "markdown",
   "metadata": {},
   "source": [
    "ここで，真の関数 $y(x) = 3 - 5x + x^2$ を定義します．"
   ]
  },
  {
   "cell_type": "code",
   "execution_count": 33,
   "metadata": {},
   "outputs": [],
   "source": [
    "def y(x):\n",
    "    \"\"\"真の関数\"\"\"\n",
    "    return 3 - 5 * x + x ** 2"
   ]
  },
  {
   "cell_type": "markdown",
   "metadata": {},
   "source": [
    "### 問2． `ndarray`の操作\n",
    "\n",
    "問1で生成した観測値 `x` に対応する目標値 `t` を定義しなさい．\n",
    "\n",
    "目標値 $t$ は， $t = y(x) + \\epsilon$ と表されます．  ( $y$: 真の関数, $\\epsilon$: ノイズ )  \n",
    "実際の観測値にはどうしてもノイズ(観測誤差)が発生してしまいます．今回は，それを`noise`で再現します．\n",
    "\n",
    "問1で観測値を100個生成したので，それぞれに対応する目標値も100個作成する必要がありますが， `for` 文は絶対使ってはいけません．"
   ]
  },
  {
   "cell_type": "code",
   "execution_count": 35,
   "metadata": {},
   "outputs": [
    {
     "name": "stdout",
     "output_type": "stream",
     "text": [
      "[ 2.40134606  1.63412852  3.27181572  2.6216739   0.2621727   2.15662453\n",
      "  2.39119567  1.41623607  0.95799296  0.12623581 -0.71671121  1.33116215\n",
      "  0.02789198 -0.08521648  1.69731664  0.47054335 -0.01658445 -0.41369781\n",
      "  0.8009866   0.84243392 -0.10069589 -0.5959205  -3.41559073 -1.33500679\n",
      " -1.72147518 -1.624953   -0.89829663 -4.69835485 -2.64022318 -1.9081387\n",
      " -2.74691901 -3.79390846 -1.59986622 -2.27868365 -3.60828445 -2.39888548\n",
      " -1.96353825 -2.84615108 -2.11209717 -2.89051852 -3.41502288 -4.2251281\n",
      " -3.19245051 -2.94793745 -2.29700674 -3.31345458 -2.76133758 -4.19866976\n",
      " -4.02688995 -3.35975161 -4.30399077 -2.42401295 -2.77092742 -2.93965742\n",
      " -2.85944298 -1.15179594 -3.61109457 -5.30796103 -2.86640738 -3.07039744\n",
      " -3.48629774 -3.89149183 -3.29063325 -2.60378554 -3.21651938 -0.2247262\n",
      " -3.51605994 -3.26194707 -4.66562239 -2.02858905 -4.19444968 -2.61036576\n",
      " -2.23434822 -2.55107069  0.01996644 -0.59697384 -0.13959182 -2.20340647\n",
      " -0.04955102 -0.53420005 -0.10574944  0.31043056 -1.46452286 -0.81172707\n",
      "  0.64863825 -2.69102364  1.66157826  0.89013849  0.48516024  0.95033114\n",
      " -0.09605099  0.79310326  2.45759482  2.87469782  4.49736679  1.95678649\n",
      "  1.60682812  1.99091857  1.73198363  2.92214524]\n"
     ]
    }
   ],
   "source": [
    "t = y(x) + noise #TODO\n",
    "print(t)\n"
   ]
  },
  {
   "cell_type": "markdown",
   "metadata": {},
   "source": [
    "matplotlib で可視化すると以下のようなグラフになります．\n",
    "scatter → 散布図"
   ]
  },
  {
   "cell_type": "code",
   "execution_count": 36,
   "metadata": {},
   "outputs": [
    {
     "data": {
      "text/plain": [
       "<matplotlib.collections.PathCollection at 0x1e798323ad0>"
      ]
     },
     "execution_count": 36,
     "metadata": {},
     "output_type": "execute_result"
    },
    {
     "data": {
      "image/png": "[encoded data removed]",
      "text/plain": [
       "<Figure size 640x480 with 1 Axes>"
      ]
     },
     "metadata": {},
     "output_type": "display_data"
    }
   ],
   "source": [
    "plt.scatter(x, t)"
   ]
  },
  {
   "cell_type": "markdown",
   "metadata": {},
   "source": [
    "---"
   ]
  },
  {
   "cell_type": "markdown",
   "metadata": {},
   "source": [
    "### 問3. `ndarray`の結合\n",
    "\n",
    "以下の3つの`ndarray`を垂直方向に結合した2次元配列を転置した行列 `X` を定義しなさい．\n",
    "\n",
    "- x0: 長さが `x` と同じで要素が全て1の`ndarray`\n",
    "- x1: 観測値 `x` の各要素を1乗した`ndarray`\n",
    "- x2: 観測値 `x` の各要素を2乗した`ndarray`\n",
    "\n",
    "例： $x = (1, 2, 3)$ のとき，\n",
    "\n",
    "$$\n",
    "x_0 = (1, 1, 1)\\\\\n",
    "x_1 = (1, 2, 3)\\\\\n",
    "x_2 = (1, 4, 9)\n",
    "$$\n",
    "\n",
    "だから，\n",
    "\n",
    "$$\n",
    "X = \\left(\n",
    "\\begin{array}{ccc}\n",
    "    1 & 1 & 1 \\\\\n",
    "    1 & 2 & 3 \\\\\n",
    "    1 & 4 & 9\n",
    "\\end{array}\n",
    "\\right)^T\n",
    "= \\left(\n",
    "\\begin{array}{ccc}\n",
    "    1 & 1 & 1 \\\\\n",
    "    1 & 2 & 4 \\\\\n",
    "    1 & 3 & 9\n",
    "\\end{array}\n",
    "\\right)\n",
    "$$\n",
    "\n",
    "ちなみに，機械学習では `X` のような行列を計画行列と呼びます．"
   ]
  },
  {
   "cell_type": "code",
   "execution_count": 39,
   "metadata": {},
   "outputs": [],
   "source": [
    "X0 = np.ones((1,100))#TODO\n",
    "X1 = x ** 1\n",
    "X2 = x ** 2"
   ]
  },
  {
   "cell_type": "markdown",
   "metadata": {},
   "source": [
    "---"
   ]
  },
  {
   "cell_type": "markdown",
   "metadata": {},
   "source": [
    "### 問4. 線形代数\n",
    "\n",
    "観測値 `x, t` をもとに真の関数 `y` を2次関数で回帰しなさい．\n",
    "\n",
    "任意の2次関数は $y(x) = w_0 + w_1 x + w_2 x^2$ と表すことができます．  \n",
    "なので，パラメータのベクトル $\\mathbf{w} = (w_0, w_1, w_2)$ を求めれば良いことになります．\n",
    "\n",
    "これは以下の正規方程式から求めることができます．\n",
    "\n",
    "$ \\mathbf{w} = (X^T X)^{-1} X^T \\mathbf{t} $\n",
    "\n",
    "この式の導出はdev_data勉強会で学びます．\n",
    "\n",
    "行列の積が多い場合は`np.dot`を使わない方が簡潔に書けます．"
   ]
  },
  {
   "cell_type": "code",
   "execution_count": 43,
   "metadata": {},
   "outputs": [],
   "source": [
    "X0_T = X0.T\n",
    "X1_T = X1.reshape((1, len(X1))).T\n",
    "X2_T = X2.reshape((1, len(X2))).T\n",
    "X_design = np.concatenate([X0_T, X1_T, X2_T], 1)\n",
    "t_T = t.reshape((1, len(t))).T\n",
    "\n",
    "w_ = np.linalg.inv(X_design.T @ X_design) @ X_design.T @ t_T\n",
    "\n",
    "w0, w1, w2 = w_[0,0], w_[1,0], w_[2,0]#TODO\n",
    "pred_y = w0 + w1 * x + w2 * x ** 2"
   ]
  },
  {
   "cell_type": "markdown",
   "metadata": {},
   "source": [
    "---"
   ]
  },
  {
   "cell_type": "markdown",
   "metadata": {},
   "source": [
    "### 結果\n",
    "\n",
    "先ほどのグラフに真の関数(緑)と回帰曲線(赤)を重ねると以下のようになります．"
   ]
  },
  {
   "cell_type": "code",
   "execution_count": 44,
   "metadata": {},
   "outputs": [
    {
     "data": {
      "text/plain": [
       "<matplotlib.legend.Legend at 0x1e7983202f0>"
      ]
     },
     "execution_count": 44,
     "metadata": {},
     "output_type": "execute_result"
    },
    {
     "data": {
      "image/png": "[encoded data removed]",
      "text/plain": [
       "<Figure size 640x480 with 1 Axes>"
      ]
     },
     "metadata": {},
     "output_type": "display_data"
    }
   ],
   "source": [
    "plt.scatter(x, t)\n",
    "plt.plot(x, pred_y, linewidth=5, color=\"red\", label=\"pred\")\n",
    "plt.plot(x, y(x), linewidth=5, color=\"green\", label=\"true\")\n",
    "plt.legend()"
   ]
  },
  {
   "cell_type": "markdown",
   "metadata": {},
   "source": [
    "今回使った手法は 真の関数 `y` の定義を変更するとその他のコードを全く変更しなくても同様に回帰することができます．\n",
    "\n",
    "例えば以下のように変更したらその関数を回帰します．\n",
    "\n",
    "```python\n",
    "def y(x):\n",
    "    \"\"\"真の関数\"\"\"\n",
    "    return 5 * np.sin(np.pi * x / 5)\n",
    "```\n",
    "dev_data勉強会で詳しくやりますが，この回帰曲線の表現力は2次までです．\n",
    "カーブが2つ以上の曲線を回帰したい場合は問3の計画行列の列数を　`x3, x4...`　のように増やせば表現力が上がります．"
   ]
  },
  {
   "cell_type": "code",
   "execution_count": null,
   "metadata": {},
   "outputs": [],
   "source": []
  }
 ],
 "metadata": {
  "kernelspec": {
   "display_name": "Python 3",
   "language": "python",
   "name": "python3"
  },
  "language_info": {
   "codemirror_mode": {
    "name": "ipython",
    "version": 3
   },
   "file_extension": ".py",
   "mimetype": "text/x-python",
   "name": "python",
   "nbconvert_exporter": "python",
   "pygments_lexer": "ipython3",
   "version": "3.12.1"
  }
 },
 "nbformat": 4,
 "nbformat_minor": 4
}
